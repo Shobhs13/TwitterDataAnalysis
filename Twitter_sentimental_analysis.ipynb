{
  "nbformat": 4,
  "nbformat_minor": 0,
  "metadata": {
    "colab": {
      "name": "Twitter sentimental analysis",
      "provenance": [],
      "collapsed_sections": [],
      "authorship_tag": "ABX9TyMDsLAXlhjbwSdriTcMMPGC",
      "include_colab_link": true
    },
    "kernelspec": {
      "name": "python3",
      "display_name": "Python 3"
    }
  },
  "cells": [
    {
      "cell_type": "markdown",
      "metadata": {
        "id": "view-in-github",
        "colab_type": "text"
      },
      "source": [
        "<a href=\"https://colab.research.google.com/github/Shobhs13/TwitterDataAnalysis/blob/master/Twitter_sentimental_analysis.ipynb\" target=\"_parent\"><img src=\"https://colab.research.google.com/assets/colab-badge.svg\" alt=\"Open In Colab\"/></a>"
      ]
    },
    {
      "cell_type": "code",
      "metadata": {
        "id": "VfD6uX5cBUN9",
        "colab_type": "code",
        "colab": {}
      },
      "source": [
        "# Senstimental Analysis of twitter\n",
        "\n",
        "#importing libraries\n",
        "import tweepy\n",
        "from textblob import TextBlob\n",
        "from wordcloud import WordCloud\n",
        "import pandas as pd \n",
        "import numpy as np\n",
        "import matplotlib.pyplot as plt\n"
      ],
      "execution_count": 0,
      "outputs": []
    },
    {
      "cell_type": "code",
      "metadata": {
        "id": "IYVMaaALFq0X",
        "colab_type": "code",
        "colab": {}
      },
      "source": [
        "#Twitter Credentials\n",
        "consumerKey='zrYcrLHpb8miuTchOe0BbqDzR'\n",
        "consumerSecret='O35T9BdKdCQrPOZzNGPgdR4xNrsk9SXlm4qbnBstGji12vzvJR'\n",
        "accessToken='1022555461755785221-GLFeu1D19k6al6pp9SPownhhxkyTsv'\n",
        "accessTokenSecret='LDxFAUs5EGmzvBZTk7PYDyBh3Qnv4LVTSqTt16O7Zqzb5'"
      ],
      "execution_count": 0,
      "outputs": []
    },
    {
      "cell_type": "code",
      "metadata": {
        "id": "Go_ROiORGwtZ",
        "colab_type": "code",
        "colab": {}
      },
      "source": [
        "#authenticating customer credentials\n",
        "authenticate=tweepy.OAuthHandler(consumerKey,consumerSecret)\n",
        "\n",
        "#authenticating accessTokens\n",
        "authenticate.set_access_token(accessToken,accessTokenSecret)\n",
        "\n",
        "#genrating api\n",
        "api=tweepy.API(authenticate,wait_on_rate_limit=True)"
      ],
      "execution_count": 0,
      "outputs": []
    },
    {
      "cell_type": "code",
      "metadata": {
        "id": "iuuPGapCITbZ",
        "colab_type": "code",
        "colab": {}
      },
      "source": [
        ""
      ],
      "execution_count": 0,
      "outputs": []
    }
  ]
}